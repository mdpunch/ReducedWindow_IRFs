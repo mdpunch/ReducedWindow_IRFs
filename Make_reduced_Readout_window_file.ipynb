{
 "cells": [
  {
   "cell_type": "markdown",
   "id": "cfdbf7a1-d096-4d39-90f1-9579b8e1811e",
   "metadata": {},
   "source": [
    "# Read Prod6 simtel file and test reduced readout window effect\n",
    "\n",
    "Use env variables for PROD_DIR and OUT_DIR, if they exist.\n",
    "\n",
    "If not interactive, use command line arguments, with defaults."
   ]
  },
  {
   "cell_type": "code",
   "execution_count": 1,
   "id": "c542687c-2180-4f8a-ba02-7a2c350971dd",
   "metadata": {},
   "outputs": [
    {
     "name": "stderr",
     "output_type": "stream",
     "text": [
      "/home/punch/miniconda3/envs/ctapipe_0.24/lib/python3.13/site-packages/tqdm/auto.py:21: TqdmWarning: IProgress not found. Please update jupyter and ipywidgets. See https://ipywidgets.readthedocs.io/en/stable/user_install.html\n",
      "  from .autonotebook import tqdm as notebook_tqdm\n"
     ]
    }
   ],
   "source": [
    "from ctapipe.io import EventSource,DataWriter\n",
    "from ctapipe import utils\n",
    "from matplotlib import pyplot as plt\n",
    "import numpy as np\n",
    "%matplotlib inline"
   ]
  },
  {
   "cell_type": "code",
   "execution_count": 2,
   "id": "a098f15b-1e95-4f6e-a65e-ef44383f03fd",
   "metadata": {},
   "outputs": [],
   "source": [
    "from ctapipe.visualization import CameraDisplay\n",
    "from ctapipe.coordinates import EngineeringCameraFrame\n",
    "from ctapipe.calib import CameraCalibrator\n",
    "from ctapipe.instrument import SoftwareTrigger\n",
    "from ctapipe.image import tailcuts_clean"
   ]
  },
  {
   "cell_type": "code",
   "execution_count": 3,
   "id": "1adec64f-1bd0-4a2d-90bc-6ab55f546b1f",
   "metadata": {},
   "outputs": [],
   "source": [
    "from ctapipe.image import (\n",
    "     ImageProcessor,\n",
    "     camera_to_shower_coordinates,\n",
    "     concentration_parameters,\n",
    "     hillas_parameters,\n",
    "     leakage_parameters,\n",
    "     number_of_islands,\n",
    "     timing_parameters,\n",
    "     toymodel,\n",
    " )\n",
    "from traitlets.config import Config\n",
    "from ctapipe.reco import ShowerProcessor"
   ]
  },
  {
   "cell_type": "code",
   "execution_count": 4,
   "id": "5d388e6e-2e08-4163-9eea-912c2e5ef525",
   "metadata": {},
   "outputs": [],
   "source": [
    "from astropy import units as u"
   ]
  },
  {
   "cell_type": "code",
   "execution_count": 5,
   "id": "56da82d3-bb5b-465b-bf08-9a6c670f480e",
   "metadata": {},
   "outputs": [],
   "source": [
    "from astropy.coordinates import AltAz, angular_separation"
   ]
  },
  {
   "cell_type": "code",
   "execution_count": 81,
   "id": "527f99c7-776e-4567-8183-6a49fa54b7b6",
   "metadata": {},
   "outputs": [],
   "source": [
    "import os\n",
    "import sys"
   ]
  },
  {
   "cell_type": "code",
   "execution_count": 42,
   "id": "18ee2606-9dcf-481b-a187-caba53249339",
   "metadata": {},
   "outputs": [],
   "source": [
    "from glob import glob,iglob"
   ]
  },
  {
   "cell_type": "code",
   "execution_count": 38,
   "id": "4d32524e-bde9-4e72-a68a-6552cfd87442",
   "metadata": {},
   "outputs": [],
   "source": [
    "import argparse"
   ]
  },
  {
   "cell_type": "code",
   "execution_count": 19,
   "id": "094b9751-bd38-4ab5-8539-69bb3ca2a88a",
   "metadata": {},
   "outputs": [],
   "source": [
    "from ctapipe.version import version"
   ]
  },
  {
   "cell_type": "code",
   "execution_count": 20,
   "id": "99756417-a456-4711-a4c6-6ac7fb5d1de4",
   "metadata": {},
   "outputs": [
    {
     "data": {
      "text/plain": [
       "'0.24.0'"
      ]
     },
     "execution_count": 20,
     "metadata": {},
     "output_type": "execute_result"
    }
   ],
   "source": [
    "version"
   ]
  },
  {
   "cell_type": "markdown",
   "id": "89f414c9-0dc9-4e14-9326-d4df92cced8f",
   "metadata": {},
   "source": [
    "## Get Env variables"
   ]
  },
  {
   "cell_type": "code",
   "execution_count": 49,
   "id": "a034cda1-012f-4435-a81a-0bd8e84bd6a1",
   "metadata": {},
   "outputs": [],
   "source": [
    "if hasattr(sys,'ps1'):\n",
    "    site = \"LaPalma\"\n",
    "    particle = \"gamma\"\n",
    "else:\n",
    "    parser = argparse.ArgumentParser(\n",
    "                    prog='Make_reduced_Readout_window',\n",
    "                    description='Makes DL2(?) files with a reduced readout window (or not)',\n",
    "                    #epilog='',\n",
    "                    )\n",
    "    parser.add_argument(\"--site\",\"-s\",help=\"Choose site: LaPalma or Paranal (default LaPalma)\",\n",
    "                       nargs='?', default='LaPalma')\n",
    "    parser.add_argument(\"--particle\",\"-p\",help=\"Choose particle: gamma, gamma-diffuse, proton, electron\",\n",
    "                       nargs='?', default='gamma')\n",
    "    parser.add_argument(\"--reduced-window\",\"-r\",action=argparse.BooleanOptionalAction,\n",
    "                        default=True,help=\"Hardwired reduced window, or standard as simulated\")\n",
    "    args = parser.parse_args()\n",
    "    #print(\"args:\",args)\n",
    "    \n",
    "    site = args.site\n",
    "    particle = args.particle\n",
    "    ReduceWindow = True if args.reduced_window else False\n",
    "    if particle not in [\"gamma\", \"gamma-diffuse\", \"proton\", \"electron\"]:\n",
    "        print(f\"Error:\\n\" \n",
    "              f\"  Particle type \\\"{particle}\\\" unknown. \\n\"\n",
    "               \"  Must choose particle type in : gamma, gamma-diffuse, proton, electron\")\n",
    "        sys.exit()"
   ]
  },
  {
   "cell_type": "code",
   "execution_count": 51,
   "id": "a546674f-a6e5-43e7-b981-552d316afbbc",
   "metadata": {},
   "outputs": [
    {
     "data": {
      "text/plain": [
       "('/media/punch/CTA_Data/Prod6/LaPalma/2025/gamma',\n",
       " '/scr/punch/CTA/Prod6/LaPalma/2025/')"
      ]
     },
     "execution_count": 51,
     "metadata": {},
     "output_type": "execute_result"
    }
   ],
   "source": [
    "# If environment variable exists, use it\n",
    "try:\n",
    "    PROD_DIR = '{PROD_DIR}'.format(**os.environ)\n",
    "except KeyError:\n",
    "    PROD_DIR = f\"/media/punch/CTA_Data/Prod6/LaPalma/2025/{particle}\"\n",
    "\n",
    "try:\n",
    "    OUT_DIR = '{OUT_DIR}'.format(**os.environ)\n",
    "except KeyError:\n",
    "    OUT_DIR = \"/scr/punch/CTA/Prod6/LaPalma/2025/\"\n",
    "\n",
    "PROD_DIR,OUT_DIR"
   ]
  },
  {
   "cell_type": "markdown",
   "id": "256a6e61-36d4-4485-92df-14789c6e1917",
   "metadata": {},
   "source": [
    "## Forget about CTAO-S"
   ]
  },
  {
   "cell_type": "code",
   "execution_count": 26,
   "id": "ae5eb68d-906c-4009-a89d-0edeb4b4adb4",
   "metadata": {},
   "outputs": [],
   "source": [
    "#gamma_file = \"/scr/punch/CTA/Prod6/Paranal/gamma_20deg_0deg_run000001___cta-prod6-2147m-Paranal-dark.simtel.zst\"\n",
    "#proton_file = \"/scr/punch/CTA/Prod6/Paranal/proton_20deg_0deg_run000001___cta-prod6-2147m-Paranal-dark.simtel.zst\""
   ]
  },
  {
   "cell_type": "markdown",
   "id": "3539ca9c-94f3-4360-b7bb-db1f19a93bf4",
   "metadata": {},
   "source": [
    "## CTAO-N files"
   ]
  },
  {
   "cell_type": "code",
   "execution_count": 61,
   "id": "25ed9d91-770c-479a-98e4-6e545ae20a14",
   "metadata": {},
   "outputs": [],
   "source": [
    "if particle != \"gamma_diffuse\":\n",
    "    simtel_files = glob(PROD_DIR+f\"/{particle}*.simtel.zst\")\n",
    "    if particle == \"gamma\": # Sift out any diffuse files there might be in there\n",
    "        simtel_files = [sf for sf in simtel_files if not \"cone\" in sf]\n",
    "else:\n",
    "    simtel_files = glob(PROD_DIR+f\"/gamma*cone*.simtel.zst\")"
   ]
  },
  {
   "cell_type": "code",
   "execution_count": 63,
   "id": "5cab7d3d-b4d2-44a8-bba2-93d0f232418c",
   "metadata": {},
   "outputs": [
    {
     "name": "stdout",
     "output_type": "stream",
     "text": [
      "50 files found.\n"
     ]
    }
   ],
   "source": [
    "if len(simtel_files):\n",
    "    print(f\"{len(simtel_files)} files found.\")\n",
    "else:\n",
    "    if os.path.isdir(PROD_DIR):\n",
    "        print(f\"Error: No {particle} files found in {PROD_DIR}.\")\n",
    "    else:\n",
    "        print(f\"Error: Prod directory {PROD_DIR} does not exist.\")\n",
    "    sys.exit()"
   ]
  },
  {
   "cell_type": "code",
   "execution_count": 83,
   "id": "e523fa0e-4667-4430-9ce0-bbe04b4383b2",
   "metadata": {},
   "outputs": [
    {
     "name": "stdout",
     "output_type": "stream",
     "text": [
      "Writing outputs in /scr/punch/CTA/Prod6/LaPalma/2025/.\n"
     ]
    }
   ],
   "source": [
    "if not os.path.isdir(OUT_DIR):\n",
    "    print(f\"Error: Output directory {OUT_DIR} does not exist.\")\n",
    "else:\n",
    "    print(f\"Writing outputs in {OUT_DIR}.\")"
   ]
  },
  {
   "cell_type": "code",
   "execution_count": 64,
   "id": "1436c4a6-8649-4a12-a62d-40d99cfcab84",
   "metadata": {},
   "outputs": [],
   "source": [
    "first_file = simtel_files[0]"
   ]
  },
  {
   "cell_type": "code",
   "execution_count": 65,
   "id": "bbcb2012-fa74-4973-9524-ed9882ba2f0d",
   "metadata": {},
   "outputs": [],
   "source": [
    "#simtel_files = simtel_files[17:]"
   ]
  },
  {
   "cell_type": "code",
   "execution_count": 66,
   "id": "c4084ef9-a687-4d7c-a8ea-2c6334e433f0",
   "metadata": {},
   "outputs": [],
   "source": [
    "if \"palma\" in site.lower():\n",
    "    # This looks something like the layout in \n",
    "    # https://indico.cta-observatory.org/event/3962/contributions/32718/attachments/21055/29677/20220310_NorthernArray.pdf\n",
    "    tels_alpha = [1,2,3,4,5,6,7,8,9,10,11,14,19]\n",
    "else:\n",
    "    # \n",
    "    # https://indico.cta-observatory.org/event/4368/contributions/36020/attachments/22589/32376/AD-6%20INFRA%20DES%20100-058-S.pdf\n",
    "    tels_alpha = [1,2,3,4,5,6,7,8,9,10,11,12,13,14,15,16,17,18,\n",
    "                  38,39,40,41,42,43,44,45,46,47,48,49,50,51,52,53,54,55,56,57,\n",
    "                  58,59,60,61,62,63,64,65,66,67,68,69,70,71,72,73,74,75,76,77]  # Maybe should stop at (including) 74?? https://github.com/Eventdisplay/Eventdisplay_AnalysisFiles_CTA/blob/a534e533199b0305b86d4006956f032388636b56/DetectorGeometry/CTA.prod6S.Am-0LSTs14MSTs37SSTs.lis#L4\n",
    "    "
   ]
  },
  {
   "cell_type": "code",
   "execution_count": 67,
   "id": "869f5df7-266e-44ca-b87b-175d6e89ea6e",
   "metadata": {
    "lines_to_next_cell": 2
   },
   "outputs": [],
   "source": [
    "source = EventSource(first_file,allowed_tels=tels_alpha)\n",
    "#source = EventSource(proton_file)"
   ]
  },
  {
   "cell_type": "code",
   "execution_count": 68,
   "id": "56d36e4c-9851-400c-b6dd-6beb97a47d8f",
   "metadata": {},
   "outputs": [
    {
     "data": {
      "text/plain": [
       "{1, 2, 3, 4, 5, 6, 7, 8, 9, 10, 11, 14, 19}"
      ]
     },
     "execution_count": 68,
     "metadata": {},
     "output_type": "execute_result"
    }
   ],
   "source": [
    "source.allowed_tels"
   ]
  },
  {
   "cell_type": "code",
   "execution_count": 69,
   "id": "e4b3beb9-d446-4f21-b0d5-135f4df52a40",
   "metadata": {},
   "outputs": [
    {
     "data": {
      "image/png": "[encoded data removed]",
      "text/plain": [
       "<Figure size 800x800 with 1 Axes>"
      ]
     },
     "metadata": {},
     "output_type": "display_data"
    }
   ],
   "source": [
    "#sub_alpha = source.subarray.select_subarray(tel_ids=tels_alpha)\n",
    "#sub_alpha = source.subarray.select_subarray(tel_ids=[2,3,4])\n",
    "#ArrayDisplay(sub_alpha)\n",
    "#sub_alpha.peek()\n",
    "source.subarray.peek()\n",
    "plt.xlim([-300,400])\n",
    "plt.ylim([-350,350])\n",
    "#\n",
    "plt.show()"
   ]
  },
  {
   "cell_type": "markdown",
   "id": "401d4d18-c123-4d5a-a47d-d94b3126496a",
   "metadata": {},
   "source": [
    "## From https://ctapipe.readthedocs.io/en/v0.20.0/auto_examples/tutorials/ctapipe_overview.html\n",
    "\n",
    "But, thresholds taken from ctapipe-process base_config.yaml\n",
    "\n",
    "And subarray as sub_alpha"
   ]
  },
  {
   "cell_type": "code",
   "execution_count": 70,
   "id": "15c832e2-2677-4ef7-8d77-1d5240aa2909",
   "metadata": {},
   "outputs": [],
   "source": [
    "source = EventSource(first_file,allowed_tels=tels_alpha)\n",
    "#source = EventSource(proton_file)"
   ]
  },
  {
   "cell_type": "code",
   "execution_count": 71,
   "id": "acb2024c-84fb-4b94-a9cc-4a26bc2a3dc6",
   "metadata": {},
   "outputs": [],
   "source": [
    "source = EventSource(first_file,allowed_tels=tels_alpha)\n",
    "event_iter = iter(source)"
   ]
  },
  {
   "cell_type": "code",
   "execution_count": 72,
   "id": "0963cffd-5417-43fb-ac3b-5c74a0c58aba",
   "metadata": {},
   "outputs": [
    {
     "data": {
      "text/plain": [
       "SubarrayDescription(name='LaPalma-prod6_1-11,14,19', n_tels=13)"
      ]
     },
     "execution_count": 72,
     "metadata": {},
     "output_type": "execute_result"
    }
   ],
   "source": [
    "source.subarray"
   ]
  },
  {
   "cell_type": "code",
   "execution_count": 73,
   "id": "1bcee42f-e3a4-4c9d-b9dd-c409d8319383",
   "metadata": {},
   "outputs": [
    {
     "data": {
      "text/plain": [
       "[1, 2, 3, 4, 5, 6, 7, 8, 9, 10, 11, 14, 19]"
      ]
     },
     "execution_count": 73,
     "metadata": {},
     "output_type": "execute_result"
    }
   ],
   "source": [
    "tels_alpha"
   ]
  },
  {
   "cell_type": "code",
   "execution_count": 74,
   "id": "ee9e4226-bbb0-4e64-984d-816d5057e0a0",
   "metadata": {},
   "outputs": [],
   "source": [
    "#sub_alpha = source.subarray.select_subarray(tels_alpha)"
   ]
  },
  {
   "cell_type": "code",
   "execution_count": 75,
   "id": "c0d7d1a1-2df3-408e-b19f-de053d8e9f9a",
   "metadata": {},
   "outputs": [],
   "source": [
    "#sub_alpha"
   ]
  },
  {
   "cell_type": "code",
   "execution_count": 76,
   "id": "2de509c3-6c98-4e05-942d-333f3df006c2",
   "metadata": {},
   "outputs": [],
   "source": [
    "event = next(event_iter)"
   ]
  },
  {
   "cell_type": "code",
   "execution_count": 77,
   "id": "c431e733-4da8-49fe-862b-0db59cc042a5",
   "metadata": {},
   "outputs": [
    {
     "data": {
      "text/plain": [
       "array([10])"
      ]
     },
     "execution_count": 77,
     "metadata": {},
     "output_type": "execute_result"
    }
   ],
   "source": [
    "event.trigger.tels_with_trigger"
   ]
  },
  {
   "cell_type": "code",
   "execution_count": 78,
   "id": "e716ceb5-eb75-4c51-b035-a552dc72803a",
   "metadata": {},
   "outputs": [],
   "source": [
    "calibrator = CameraCalibrator(subarray=source.subarray)"
   ]
  },
  {
   "cell_type": "code",
   "execution_count": null,
   "id": "1eec7253-58e9-4c6c-b3a3-77579c4e0f78",
   "metadata": {},
   "outputs": [],
   "source": []
  },
  {
   "cell_type": "code",
   "execution_count": 79,
   "id": "9afdd914-0b33-4445-97e3-fb84167b6c3b",
   "metadata": {},
   "outputs": [],
   "source": [
    "calibrator(event)"
   ]
  },
  {
   "cell_type": "code",
   "execution_count": null,
   "id": "e8326f19-615c-4731-9f1f-23742f53b950",
   "metadata": {},
   "outputs": [],
   "source": [
    "source.close()"
   ]
  },
  {
   "cell_type": "markdown",
   "id": "622f6d8d-96bf-49df-995f-3ba3574b1fe0",
   "metadata": {
    "lines_to_next_cell": 2
   },
   "source": [
    "## Main Loop\n",
    "### Adapting from https://ctapipe.readthedocs.io/en/latest/auto_examples/tutorials/ctapipe_overview.html\n",
    "\n",
    "But then using the configs for running on the grid: https://gitlab.cta-observatory.org/cta-computing/dpps/datapipe/pipeline-configurations\n",
    "... which I've saved here, so can read in."
   ]
  },
  {
   "cell_type": "code",
   "execution_count": 23,
   "id": "7e73e761-3af5-4cf2-9afc-eae5d11c3efd",
   "metadata": {},
   "outputs": [],
   "source": [
    "import yaml"
   ]
  },
  {
   "cell_type": "code",
   "execution_count": 25,
   "id": "1b952086-92cb-4c5b-a381-d9490ca82d56",
   "metadata": {},
   "outputs": [],
   "source": [
    "from pprint import pprint"
   ]
  },
  {
   "cell_type": "code",
   "execution_count": 26,
   "id": "e8e735d8-1bb2-4f20-ac81-1cd85b8ebc2a",
   "metadata": {},
   "outputs": [
    {
     "name": "stdout",
     "output_type": "stream",
     "text": [
      "{'CameraCalibrator': {'image_extractor_type': [['type',\n",
      "                                                '*',\n",
      "                                                'NeighborPeakWindowSum'],\n",
      "                                               ['type',\n",
      "                                                '*FlashCam',\n",
      "                                                'FlashCamExtractor']]},\n",
      " 'DataWriter': {'Contact': {'email': 'maximilian.linhoff@tu-dortmund.de',\n",
      "                            'name': 'Maximilian Linhoff',\n",
      "                            'organization': 'CTAO / DPPS'},\n",
      "                'transform_image': True,\n",
      "                'transform_peak_time': True,\n",
      "                'write_dl1_images': True,\n",
      "                'write_dl1_parameters': False,\n",
      "                'write_dl2': False}}\n"
     ]
    }
   ],
   "source": [
    "with open(\"dl0_to_dl1.yml\") as stream:\n",
    "    try:\n",
    "        dl0_to_dl1 = yaml.safe_load(stream)\n",
    "        pprint(dl0_to_dl1)\n",
    "    except yaml.YAMLError as exc:\n",
    "        print(exc)"
   ]
  },
  {
   "cell_type": "code",
   "execution_count": 27,
   "id": "6d12eeaf-8a8c-4d02-8ea1-318041aadfd7",
   "metadata": {},
   "outputs": [
    {
     "name": "stdout",
     "output_type": "stream",
     "text": [
      "{'DataWriter': {'Contact': {'email': 'maximilian.linhoff@tu-dortmund.de',\n",
      "                            'name': 'Maximilian Linhoff',\n",
      "                            'organization': 'CTAO / DPPS'},\n",
      "                'write_dl1_images': False,\n",
      "                'write_dl1_parameters': True,\n",
      "                'write_dl2': True},\n",
      " 'ImageProcessor': {'ImageQualityQuery': {'quality_criteria': [['enough_pixels',\n",
      "                                                                'np.count_nonzero(image) '\n",
      "                                                                '> 2'],\n",
      "                                                               ['enough_charge',\n",
      "                                                                'image.sum() > '\n",
      "                                                                '50']]},\n",
      "                    'TailcutsImageCleaner': {'boundary_threshold_pe': [['type',\n",
      "                                                                        'LST*',\n",
      "                                                                        4.25],\n",
      "                                                                       ['type',\n",
      "                                                                        'MST*',\n",
      "                                                                        4.5],\n",
      "                                                                       ['type',\n",
      "                                                                        'SST*',\n",
      "                                                                        2.0]],\n",
      "                                             'keep_isolated_pixels': False,\n",
      "                                             'min_picture_neighbors': 2,\n",
      "                                             'picture_threshold_pe': [['type',\n",
      "                                                                       'LST*',\n",
      "                                                                       8.5],\n",
      "                                                                      ['type',\n",
      "                                                                       'MST*',\n",
      "                                                                       9.0],\n",
      "                                                                      ['type',\n",
      "                                                                       'SST*',\n",
      "                                                                       4.0]]},\n",
      "                    'image_cleaner_type': 'TailcutsImageCleaner'},\n",
      " 'ShowerProcessor': {'HillasReconstructor': {'StereoQualityQuery': {'quality_criteria': [['enough '\n",
      "                                                                                          'intensity',\n",
      "                                                                                          'parameters.hillas.intensity '\n",
      "                                                                                          '> '\n",
      "                                                                                          '50'],\n",
      "                                                                                         ['Positive '\n",
      "                                                                                          'width',\n",
      "                                                                                          'parameters.hillas.width.value '\n",
      "                                                                                          '> '\n",
      "                                                                                          '0'],\n",
      "                                                                                         ['enough '\n",
      "                                                                                          'pixels',\n",
      "                                                                                          'parameters.morphology.n_pixels '\n",
      "                                                                                          '> '\n",
      "                                                                                          '3'],\n",
      "                                                                                         ['not '\n",
      "                                                                                          'clipped',\n",
      "                                                                                          'parameters.leakage.intensity_width_2 '\n",
      "                                                                                          '< '\n",
      "                                                                                          '0.5']]}},\n",
      "                     'reconstructor_types': ['HillasReconstructor']},\n",
      " 'SoftwareTrigger': {'min_telescopes': 2,\n",
      "                     'min_telescopes_of_type': [['type', '*', 0],\n",
      "                                                ['type', 'LST*', 2]]}}\n"
     ]
    }
   ],
   "source": [
    "with open(\"dl1_to_dl2.yml\") as stream:\n",
    "    try:\n",
    "        dl1_to_dl2 = yaml.safe_load(stream)\n",
    "        pprint(dl1_to_dl2)\n",
    "    except yaml.YAMLError as exc:\n",
    "        print(exc)"
   ]
  },
  {
   "cell_type": "code",
   "execution_count": 28,
   "id": "37fd1875-d450-44c0-9b2a-12f5e0577730",
   "metadata": {},
   "outputs": [],
   "source": [
    "from copy import deepcopy"
   ]
  },
  {
   "cell_type": "code",
   "execution_count": 29,
   "id": "000a4664-0c1b-4916-98a5-634c23db85f3",
   "metadata": {},
   "outputs": [],
   "source": [
    "def ReadoutWindowReducer(event,subarray):\n",
    "    \"\"\"\n",
    "    Fixed Readout Window Reducer\n",
    "    (Fixed over all camera)\n",
    "    Reduce the readout window for MSTs and LSTs.\n",
    "    Hardcoded for now, with for MSTs [12:28] and LSTs [10:30]\n",
    "    \"\"\"\n",
    "\n",
    "    for tel_id in event.trigger.tels_with_trigger:\n",
    "        # Maybe this would be faster? tel in subarray.get_tel_ids_for_type(\"MST_MST_NectarCam\"):\n",
    "        cam_name_lower = source.subarray.tel[tel_id].camera_name.lower()\n",
    "        if \"nectarcam\" == cam_name_lower:\n",
    "            event.r0.tel[tel_id].waveform = event.r0.tel[tel_id].waveform[:, :, 12:28]\n",
    "            event.r1.tel[tel_id].waveform = event.r1.tel[tel_id].waveform[:, :, 12:28]\n",
    "        elif \"lstcam\" == cam_name_lower: \n",
    "            event.r0.tel[tel_id].waveform = event.r0.tel[tel_id].waveform[:, :, 10:30]\n",
    "            event.r1.tel[tel_id].waveform = event.r1.tel[tel_id].waveform[:, :, 10:30]\n",
    "        else:\n",
    "            print(f\"For {tel_id}, unknown camera type {source.subarray.tel[tel_id].camera_name}!!!\")"
   ]
  },
  {
   "cell_type": "code",
   "execution_count": 54,
   "id": "847d9559-ea31-4752-ad1d-bd503bfe10aa",
   "metadata": {},
   "outputs": [],
   "source": [
    "from pathlib import Path"
   ]
  },
  {
   "cell_type": "code",
   "execution_count": 55,
   "id": "145ccb58-e177-4fa4-82ed-f2bd4c165e1c",
   "metadata": {
    "scrolled": true
   },
   "outputs": [
    {
     "name": "stdout",
     "output_type": "stream",
     "text": [
      "gamma_20deg_0deg_run000068___cta-prod6-2156m-LaPalma-dark+magic_cone10.simtel False\n"
     ]
    },
    {
     "name": "stderr",
     "output_type": "stream",
     "text": [
      "TelescopeParameter type argument 'SST*' did not match any known telescope types\n",
      "TelescopeParameter type argument 'SST*' did not match any known telescope types\n"
     ]
    },
    {
     "name": "stdout",
     "output_type": "stream",
     "text": [
      "0 1000 "
     ]
    },
    {
     "name": "stderr",
     "output_type": "stream",
     "text": [
      "Encountered telescope event not present in stereo trigger information, skipping. event_id = 8577314, tel_id = 8, tels_with_trigger: [3]\n"
     ]
    },
    {
     "name": "stdout",
     "output_type": "stream",
     "text": [
      "\n",
      "gamma_20deg_0deg_run000068___cta-prod6-2156m-LaPalma-dark+magic_cone10.simtel True\n"
     ]
    },
    {
     "name": "stderr",
     "output_type": "stream",
     "text": [
      "TelescopeParameter type argument 'SST*' did not match any known telescope types\n",
      "TelescopeParameter type argument 'SST*' did not match any known telescope types\n"
     ]
    },
    {
     "name": "stdout",
     "output_type": "stream",
     "text": [
      "0 1000 "
     ]
    },
    {
     "name": "stderr",
     "output_type": "stream",
     "text": [
      "Encountered telescope event not present in stereo trigger information, skipping. event_id = 8577314, tel_id = 8, tels_with_trigger: [3]\n"
     ]
    },
    {
     "name": "stdout",
     "output_type": "stream",
     "text": [
      "\n",
      "gamma_20deg_0deg_run000053___cta-prod6-2156m-LaPalma-dark+magic_cone10.simtel False\n"
     ]
    },
    {
     "name": "stderr",
     "output_type": "stream",
     "text": [
      "TelescopeParameter type argument 'SST*' did not match any known telescope types\n",
      "TelescopeParameter type argument 'SST*' did not match any known telescope types\n"
     ]
    },
    {
     "name": "stdout",
     "output_type": "stream",
     "text": [
      "0 "
     ]
    },
    {
     "name": "stderr",
     "output_type": "stream",
     "text": [
      "Encountered telescope event not present in stereo trigger information, skipping. event_id = 4006303, tel_id = 7, tels_with_trigger: [3]\n"
     ]
    },
    {
     "name": "stdout",
     "output_type": "stream",
     "text": [
      "1000 "
     ]
    },
    {
     "name": "stderr",
     "output_type": "stream",
     "text": [
      "TelescopeParameter type argument 'SST*' did not match any known telescope types\n",
      "TelescopeParameter type argument 'SST*' did not match any known telescope types\n"
     ]
    },
    {
     "name": "stdout",
     "output_type": "stream",
     "text": [
      "\n",
      "gamma_20deg_0deg_run000053___cta-prod6-2156m-LaPalma-dark+magic_cone10.simtel True\n",
      "0 "
     ]
    },
    {
     "name": "stderr",
     "output_type": "stream",
     "text": [
      "Encountered telescope event not present in stereo trigger information, skipping. event_id = 4006303, tel_id = 7, tels_with_trigger: [3]\n"
     ]
    },
    {
     "name": "stdout",
     "output_type": "stream",
     "text": [
      "1000 \n",
      "gamma_20deg_0deg_run000058___cta-prod6-2156m-LaPalma-dark+magic_cone10.simtel False\n"
     ]
    },
    {
     "name": "stderr",
     "output_type": "stream",
     "text": [
      "TelescopeParameter type argument 'SST*' did not match any known telescope types\n",
      "TelescopeParameter type argument 'SST*' did not match any known telescope types\n"
     ]
    },
    {
     "name": "stdout",
     "output_type": "stream",
     "text": [
      "0 "
     ]
    },
    {
     "name": "stderr",
     "output_type": "stream",
     "text": [
      "Encountered telescope event not present in stereo trigger information, skipping. event_id = 3061013, tel_id = 9, tels_with_trigger: [3]\n"
     ]
    },
    {
     "name": "stdout",
     "output_type": "stream",
     "text": [
      "1000 "
     ]
    },
    {
     "name": "stderr",
     "output_type": "stream",
     "text": [
      "TelescopeParameter type argument 'SST*' did not match any known telescope types\n",
      "TelescopeParameter type argument 'SST*' did not match any known telescope types\n"
     ]
    },
    {
     "name": "stdout",
     "output_type": "stream",
     "text": [
      "\n",
      "gamma_20deg_0deg_run000058___cta-prod6-2156m-LaPalma-dark+magic_cone10.simtel True\n",
      "0 "
     ]
    },
    {
     "name": "stderr",
     "output_type": "stream",
     "text": [
      "Encountered telescope event not present in stereo trigger information, skipping. event_id = 3061013, tel_id = 9, tels_with_trigger: [3]\n"
     ]
    },
    {
     "name": "stdout",
     "output_type": "stream",
     "text": [
      "1000 \n",
      "gamma_20deg_0deg_run000030___cta-prod6-2156m-LaPalma-dark+magic_cone10.simtel False\n"
     ]
    },
    {
     "name": "stderr",
     "output_type": "stream",
     "text": [
      "TelescopeParameter type argument 'SST*' did not match any known telescope types\n",
      "TelescopeParameter type argument 'SST*' did not match any known telescope types\n"
     ]
    },
    {
     "name": "stdout",
     "output_type": "stream",
     "text": [
      "0 1000 "
     ]
    },
    {
     "name": "stderr",
     "output_type": "stream",
     "text": [
      "TelescopeParameter type argument 'SST*' did not match any known telescope types\n",
      "TelescopeParameter type argument 'SST*' did not match any known telescope types\n"
     ]
    },
    {
     "name": "stdout",
     "output_type": "stream",
     "text": [
      "\n",
      "gamma_20deg_0deg_run000030___cta-prod6-2156m-LaPalma-dark+magic_cone10.simtel True\n",
      "0 1000 \n",
      "gamma_20deg_0deg_run000012___cta-prod6-2156m-LaPalma-dark+magic_cone10.simtel False\n"
     ]
    },
    {
     "name": "stderr",
     "output_type": "stream",
     "text": [
      "TelescopeParameter type argument 'SST*' did not match any known telescope types\n",
      "TelescopeParameter type argument 'SST*' did not match any known telescope types\n"
     ]
    },
    {
     "name": "stdout",
     "output_type": "stream",
     "text": [
      "0 1000 "
     ]
    },
    {
     "name": "stderr",
     "output_type": "stream",
     "text": [
      "TelescopeParameter type argument 'SST*' did not match any known telescope types\n",
      "TelescopeParameter type argument 'SST*' did not match any known telescope types\n"
     ]
    },
    {
     "name": "stdout",
     "output_type": "stream",
     "text": [
      "\n",
      "gamma_20deg_0deg_run000012___cta-prod6-2156m-LaPalma-dark+magic_cone10.simtel True\n",
      "0 1000 \n",
      "gamma_20deg_0deg_run000060___cta-prod6-2156m-LaPalma-dark+magic_cone10.simtel False\n"
     ]
    },
    {
     "name": "stderr",
     "output_type": "stream",
     "text": [
      "TelescopeParameter type argument 'SST*' did not match any known telescope types\n",
      "TelescopeParameter type argument 'SST*' did not match any known telescope types\n"
     ]
    },
    {
     "name": "stdout",
     "output_type": "stream",
     "text": [
      "0 1000 "
     ]
    },
    {
     "name": "stderr",
     "output_type": "stream",
     "text": [
      "TelescopeParameter type argument 'SST*' did not match any known telescope types\n",
      "TelescopeParameter type argument 'SST*' did not match any known telescope types\n"
     ]
    },
    {
     "name": "stdout",
     "output_type": "stream",
     "text": [
      "\n",
      "gamma_20deg_0deg_run000060___cta-prod6-2156m-LaPalma-dark+magic_cone10.simtel True\n",
      "0 1000 \n",
      "gamma_20deg_0deg_run000059___cta-prod6-2156m-LaPalma-dark+magic_cone10.simtel False\n"
     ]
    },
    {
     "name": "stderr",
     "output_type": "stream",
     "text": [
      "TelescopeParameter type argument 'SST*' did not match any known telescope types\n",
      "TelescopeParameter type argument 'SST*' did not match any known telescope types\n"
     ]
    },
    {
     "name": "stdout",
     "output_type": "stream",
     "text": [
      "0 1000 "
     ]
    },
    {
     "name": "stderr",
     "output_type": "stream",
     "text": [
      "TelescopeParameter type argument 'SST*' did not match any known telescope types\n",
      "TelescopeParameter type argument 'SST*' did not match any known telescope types\n"
     ]
    },
    {
     "name": "stdout",
     "output_type": "stream",
     "text": [
      "\n",
      "gamma_20deg_0deg_run000059___cta-prod6-2156m-LaPalma-dark+magic_cone10.simtel True\n",
      "0 1000 \n",
      "gamma_20deg_0deg_run000015___cta-prod6-2156m-LaPalma-dark+magic_cone10.simtel False\n"
     ]
    },
    {
     "name": "stderr",
     "output_type": "stream",
     "text": [
      "TelescopeParameter type argument 'SST*' did not match any known telescope types\n",
      "TelescopeParameter type argument 'SST*' did not match any known telescope types\n"
     ]
    },
    {
     "name": "stdout",
     "output_type": "stream",
     "text": [
      "0 "
     ]
    },
    {
     "name": "stderr",
     "output_type": "stream",
     "text": [
      "Encountered telescope event not present in stereo trigger information, skipping. event_id = 2122109, tel_id = 8, tels_with_trigger: [3]\n"
     ]
    },
    {
     "name": "stdout",
     "output_type": "stream",
     "text": [
      "1000 "
     ]
    },
    {
     "name": "stderr",
     "output_type": "stream",
     "text": [
      "Encountered telescope event not present in stereo trigger information, skipping. event_id = 9569305, tel_id = 8, tels_with_trigger: [3]\n",
      "TelescopeParameter type argument 'SST*' did not match any known telescope types\n",
      "TelescopeParameter type argument 'SST*' did not match any known telescope types\n"
     ]
    },
    {
     "name": "stdout",
     "output_type": "stream",
     "text": [
      "\n",
      "gamma_20deg_0deg_run000015___cta-prod6-2156m-LaPalma-dark+magic_cone10.simtel True\n",
      "0 "
     ]
    },
    {
     "name": "stderr",
     "output_type": "stream",
     "text": [
      "Encountered telescope event not present in stereo trigger information, skipping. event_id = 2122109, tel_id = 8, tels_with_trigger: [3]\n"
     ]
    },
    {
     "name": "stdout",
     "output_type": "stream",
     "text": [
      "1000 "
     ]
    },
    {
     "name": "stderr",
     "output_type": "stream",
     "text": [
      "Encountered telescope event not present in stereo trigger information, skipping. event_id = 9569305, tel_id = 8, tels_with_trigger: [3]\n"
     ]
    },
    {
     "name": "stdout",
     "output_type": "stream",
     "text": [
      "\n",
      "gamma_20deg_0deg_run000067___cta-prod6-2156m-LaPalma-dark+magic_cone10.simtel False\n"
     ]
    },
    {
     "name": "stderr",
     "output_type": "stream",
     "text": [
      "TelescopeParameter type argument 'SST*' did not match any known telescope types\n",
      "TelescopeParameter type argument 'SST*' did not match any known telescope types\n"
     ]
    },
    {
     "name": "stdout",
     "output_type": "stream",
     "text": [
      "0 1000 \n",
      "gamma_20deg_0deg_run000067___cta-prod6-2156m-LaPalma-dark+magic_cone10.simtel True\n"
     ]
    },
    {
     "name": "stderr",
     "output_type": "stream",
     "text": [
      "TelescopeParameter type argument 'SST*' did not match any known telescope types\n",
      "TelescopeParameter type argument 'SST*' did not match any known telescope types\n"
     ]
    },
    {
     "name": "stdout",
     "output_type": "stream",
     "text": [
      "0 1000 \n",
      "gamma_20deg_0deg_run000016___cta-prod6-2156m-LaPalma-dark+magic_cone10.simtel False\n"
     ]
    },
    {
     "name": "stderr",
     "output_type": "stream",
     "text": [
      "TelescopeParameter type argument 'SST*' did not match any known telescope types\n",
      "TelescopeParameter type argument 'SST*' did not match any known telescope types\n"
     ]
    },
    {
     "name": "stdout",
     "output_type": "stream",
     "text": [
      "0 "
     ]
    },
    {
     "name": "stderr",
     "output_type": "stream",
     "text": [
      "Encountered telescope event not present in stereo trigger information, skipping. event_id = 5852508, tel_id = 5, tels_with_trigger: [1]\n"
     ]
    },
    {
     "name": "stdout",
     "output_type": "stream",
     "text": [
      "1000 "
     ]
    },
    {
     "name": "stderr",
     "output_type": "stream",
     "text": [
      "TelescopeParameter type argument 'SST*' did not match any known telescope types\n",
      "TelescopeParameter type argument 'SST*' did not match any known telescope types\n"
     ]
    },
    {
     "name": "stdout",
     "output_type": "stream",
     "text": [
      "\n",
      "gamma_20deg_0deg_run000016___cta-prod6-2156m-LaPalma-dark+magic_cone10.simtel True\n",
      "0 "
     ]
    },
    {
     "name": "stderr",
     "output_type": "stream",
     "text": [
      "Encountered telescope event not present in stereo trigger information, skipping. event_id = 5852508, tel_id = 5, tels_with_trigger: [1]\n"
     ]
    },
    {
     "name": "stdout",
     "output_type": "stream",
     "text": [
      "1000 \n",
      "gamma_20deg_0deg_run000082___cta-prod6-2156m-LaPalma-dark+magic_cone10.simtel False\n"
     ]
    },
    {
     "name": "stderr",
     "output_type": "stream",
     "text": [
      "TelescopeParameter type argument 'SST*' did not match any known telescope types\n",
      "TelescopeParameter type argument 'SST*' did not match any known telescope types\n"
     ]
    },
    {
     "name": "stdout",
     "output_type": "stream",
     "text": [
      "0 1000 "
     ]
    },
    {
     "name": "stderr",
     "output_type": "stream",
     "text": [
      "TelescopeParameter type argument 'SST*' did not match any known telescope types\n",
      "TelescopeParameter type argument 'SST*' did not match any known telescope types\n"
     ]
    },
    {
     "name": "stdout",
     "output_type": "stream",
     "text": [
      "\n",
      "gamma_20deg_0deg_run000082___cta-prod6-2156m-LaPalma-dark+magic_cone10.simtel True\n",
      "0 1000 \n",
      "gamma_20deg_0deg_run000051___cta-prod6-2156m-LaPalma-dark+magic_cone10.simtel False\n"
     ]
    },
    {
     "name": "stderr",
     "output_type": "stream",
     "text": [
      "TelescopeParameter type argument 'SST*' did not match any known telescope types\n",
      "TelescopeParameter type argument 'SST*' did not match any known telescope types\n"
     ]
    },
    {
     "name": "stdout",
     "output_type": "stream",
     "text": [
      "0 1000 "
     ]
    },
    {
     "name": "stderr",
     "output_type": "stream",
     "text": [
      "TelescopeParameter type argument 'SST*' did not match any known telescope types\n",
      "TelescopeParameter type argument 'SST*' did not match any known telescope types\n"
     ]
    },
    {
     "name": "stdout",
     "output_type": "stream",
     "text": [
      "\n",
      "gamma_20deg_0deg_run000051___cta-prod6-2156m-LaPalma-dark+magic_cone10.simtel True\n",
      "0 1000 \n",
      "gamma_20deg_0deg_run000063___cta-prod6-2156m-LaPalma-dark+magic_cone10.simtel False\n"
     ]
    },
    {
     "name": "stderr",
     "output_type": "stream",
     "text": [
      "TelescopeParameter type argument 'SST*' did not match any known telescope types\n",
      "TelescopeParameter type argument 'SST*' did not match any known telescope types\n"
     ]
    },
    {
     "name": "stdout",
     "output_type": "stream",
     "text": [
      "0 1000 "
     ]
    },
    {
     "name": "stderr",
     "output_type": "stream",
     "text": [
      "TelescopeParameter type argument 'SST*' did not match any known telescope types\n",
      "TelescopeParameter type argument 'SST*' did not match any known telescope types\n"
     ]
    },
    {
     "name": "stdout",
     "output_type": "stream",
     "text": [
      "\n",
      "gamma_20deg_0deg_run000063___cta-prod6-2156m-LaPalma-dark+magic_cone10.simtel True\n",
      "0 1000 \n",
      "gamma_20deg_0deg_run000018___cta-prod6-2156m-LaPalma-dark+magic_cone10.simtel False\n"
     ]
    },
    {
     "name": "stderr",
     "output_type": "stream",
     "text": [
      "TelescopeParameter type argument 'SST*' did not match any known telescope types\n",
      "TelescopeParameter type argument 'SST*' did not match any known telescope types\n"
     ]
    },
    {
     "name": "stdout",
     "output_type": "stream",
     "text": [
      "0 1000 \n",
      "gamma_20deg_0deg_run000018___cta-prod6-2156m-LaPalma-dark+magic_cone10.simtel True\n"
     ]
    },
    {
     "name": "stderr",
     "output_type": "stream",
     "text": [
      "TelescopeParameter type argument 'SST*' did not match any known telescope types\n",
      "TelescopeParameter type argument 'SST*' did not match any known telescope types\n"
     ]
    },
    {
     "name": "stdout",
     "output_type": "stream",
     "text": [
      "0 1000 \n",
      "gamma_20deg_0deg_run000069___cta-prod6-2156m-LaPalma-dark+magic_cone10.simtel False\n"
     ]
    },
    {
     "name": "stderr",
     "output_type": "stream",
     "text": [
      "TelescopeParameter type argument 'SST*' did not match any known telescope types\n",
      "TelescopeParameter type argument 'SST*' did not match any known telescope types\n"
     ]
    },
    {
     "name": "stdout",
     "output_type": "stream",
     "text": [
      "0 1000 "
     ]
    },
    {
     "name": "stderr",
     "output_type": "stream",
     "text": [
      "TelescopeParameter type argument 'SST*' did not match any known telescope types\n",
      "TelescopeParameter type argument 'SST*' did not match any known telescope types\n"
     ]
    },
    {
     "name": "stdout",
     "output_type": "stream",
     "text": [
      "\n",
      "gamma_20deg_0deg_run000069___cta-prod6-2156m-LaPalma-dark+magic_cone10.simtel True\n",
      "0 1000 \n",
      "gamma_20deg_0deg_run000029___cta-prod6-2156m-LaPalma-dark+magic_cone10.simtel False\n"
     ]
    },
    {
     "name": "stderr",
     "output_type": "stream",
     "text": [
      "TelescopeParameter type argument 'SST*' did not match any known telescope types\n",
      "TelescopeParameter type argument 'SST*' did not match any known telescope types\n"
     ]
    },
    {
     "name": "stdout",
     "output_type": "stream",
     "text": [
      "0 "
     ]
    },
    {
     "name": "stderr",
     "output_type": "stream",
     "text": [
      "Encountered telescope event not present in stereo trigger information, skipping. event_id = 2743616, tel_id = 14, tels_with_trigger: [3]\n"
     ]
    },
    {
     "name": "stdout",
     "output_type": "stream",
     "text": [
      "1000 "
     ]
    },
    {
     "name": "stderr",
     "output_type": "stream",
     "text": [
      "TelescopeParameter type argument 'SST*' did not match any known telescope types\n",
      "TelescopeParameter type argument 'SST*' did not match any known telescope types\n"
     ]
    },
    {
     "name": "stdout",
     "output_type": "stream",
     "text": [
      "\n",
      "gamma_20deg_0deg_run000029___cta-prod6-2156m-LaPalma-dark+magic_cone10.simtel True\n",
      "0 "
     ]
    },
    {
     "name": "stderr",
     "output_type": "stream",
     "text": [
      "Encountered telescope event not present in stereo trigger information, skipping. event_id = 2743616, tel_id = 14, tels_with_trigger: [3]\n"
     ]
    },
    {
     "name": "stdout",
     "output_type": "stream",
     "text": [
      "1000 \n",
      "gamma_20deg_0deg_run000084___cta-prod6-2156m-LaPalma-dark+magic_cone10.simtel False\n"
     ]
    },
    {
     "name": "stderr",
     "output_type": "stream",
     "text": [
      "TelescopeParameter type argument 'SST*' did not match any known telescope types\n",
      "TelescopeParameter type argument 'SST*' did not match any known telescope types\n"
     ]
    },
    {
     "name": "stdout",
     "output_type": "stream",
     "text": [
      "0 1000 "
     ]
    },
    {
     "name": "stderr",
     "output_type": "stream",
     "text": [
      "TelescopeParameter type argument 'SST*' did not match any known telescope types\n",
      "TelescopeParameter type argument 'SST*' did not match any known telescope types\n"
     ]
    },
    {
     "name": "stdout",
     "output_type": "stream",
     "text": [
      "\n",
      "gamma_20deg_0deg_run000084___cta-prod6-2156m-LaPalma-dark+magic_cone10.simtel True\n",
      "0 1000 \n",
      "gamma_20deg_0deg_run000081___cta-prod6-2156m-LaPalma-dark+magic_cone10.simtel False\n"
     ]
    },
    {
     "name": "stderr",
     "output_type": "stream",
     "text": [
      "TelescopeParameter type argument 'SST*' did not match any known telescope types\n",
      "TelescopeParameter type argument 'SST*' did not match any known telescope types\n"
     ]
    },
    {
     "name": "stdout",
     "output_type": "stream",
     "text": [
      "0 1000 "
     ]
    },
    {
     "name": "stderr",
     "output_type": "stream",
     "text": [
      "TelescopeParameter type argument 'SST*' did not match any known telescope types\n",
      "TelescopeParameter type argument 'SST*' did not match any known telescope types\n"
     ]
    },
    {
     "name": "stdout",
     "output_type": "stream",
     "text": [
      "\n",
      "gamma_20deg_0deg_run000081___cta-prod6-2156m-LaPalma-dark+magic_cone10.simtel True\n",
      "0 1000 \n",
      "gamma_20deg_0deg_run000057___cta-prod6-2156m-LaPalma-dark+magic_cone10.simtel False\n"
     ]
    },
    {
     "name": "stderr",
     "output_type": "stream",
     "text": [
      "TelescopeParameter type argument 'SST*' did not match any known telescope types\n",
      "TelescopeParameter type argument 'SST*' did not match any known telescope types\n"
     ]
    },
    {
     "name": "stdout",
     "output_type": "stream",
     "text": [
      "0 1000 "
     ]
    },
    {
     "name": "stderr",
     "output_type": "stream",
     "text": [
      "TelescopeParameter type argument 'SST*' did not match any known telescope types\n",
      "TelescopeParameter type argument 'SST*' did not match any known telescope types\n"
     ]
    },
    {
     "name": "stdout",
     "output_type": "stream",
     "text": [
      "\n",
      "gamma_20deg_0deg_run000057___cta-prod6-2156m-LaPalma-dark+magic_cone10.simtel True\n",
      "0 1000 \n",
      "gamma_20deg_0deg_run000070___cta-prod6-2156m-LaPalma-dark+magic_cone10.simtel False\n"
     ]
    },
    {
     "name": "stderr",
     "output_type": "stream",
     "text": [
      "TelescopeParameter type argument 'SST*' did not match any known telescope types\n",
      "TelescopeParameter type argument 'SST*' did not match any known telescope types\n"
     ]
    },
    {
     "name": "stdout",
     "output_type": "stream",
     "text": [
      "0 "
     ]
    },
    {
     "name": "stderr",
     "output_type": "stream",
     "text": [
      "Encountered telescope event not present in stereo trigger information, skipping. event_id = 5911519, tel_id = 8, tels_with_trigger: [3]\n"
     ]
    },
    {
     "name": "stdout",
     "output_type": "stream",
     "text": [
      "1000 "
     ]
    },
    {
     "name": "stderr",
     "output_type": "stream",
     "text": [
      "TelescopeParameter type argument 'SST*' did not match any known telescope types\n",
      "TelescopeParameter type argument 'SST*' did not match any known telescope types\n"
     ]
    },
    {
     "name": "stdout",
     "output_type": "stream",
     "text": [
      "\n",
      "gamma_20deg_0deg_run000070___cta-prod6-2156m-LaPalma-dark+magic_cone10.simtel True\n",
      "0 "
     ]
    },
    {
     "name": "stderr",
     "output_type": "stream",
     "text": [
      "Encountered telescope event not present in stereo trigger information, skipping. event_id = 5911519, tel_id = 8, tels_with_trigger: [3]\n"
     ]
    },
    {
     "name": "stdout",
     "output_type": "stream",
     "text": [
      "1000 \n",
      "gamma_20deg_0deg_run000056___cta-prod6-2156m-LaPalma-dark+magic_cone10.simtel False\n"
     ]
    },
    {
     "name": "stderr",
     "output_type": "stream",
     "text": [
      "TelescopeParameter type argument 'SST*' did not match any known telescope types\n",
      "TelescopeParameter type argument 'SST*' did not match any known telescope types\n"
     ]
    },
    {
     "name": "stdout",
     "output_type": "stream",
     "text": [
      "0 1000 \n",
      "gamma_20deg_0deg_run000056___cta-prod6-2156m-LaPalma-dark+magic_cone10.simtel True\n"
     ]
    },
    {
     "name": "stderr",
     "output_type": "stream",
     "text": [
      "TelescopeParameter type argument 'SST*' did not match any known telescope types\n",
      "TelescopeParameter type argument 'SST*' did not match any known telescope types\n"
     ]
    },
    {
     "name": "stdout",
     "output_type": "stream",
     "text": [
      "0 1000 \n",
      "gamma_20deg_0deg_run000088___cta-prod6-2156m-LaPalma-dark+magic_cone10.simtel False\n"
     ]
    },
    {
     "name": "stderr",
     "output_type": "stream",
     "text": [
      "TelescopeParameter type argument 'SST*' did not match any known telescope types\n",
      "TelescopeParameter type argument 'SST*' did not match any known telescope types\n"
     ]
    },
    {
     "name": "stdout",
     "output_type": "stream",
     "text": [
      "0 1000 "
     ]
    },
    {
     "name": "stderr",
     "output_type": "stream",
     "text": [
      "TelescopeParameter type argument 'SST*' did not match any known telescope types\n",
      "TelescopeParameter type argument 'SST*' did not match any known telescope types\n"
     ]
    },
    {
     "name": "stdout",
     "output_type": "stream",
     "text": [
      "\n",
      "gamma_20deg_0deg_run000088___cta-prod6-2156m-LaPalma-dark+magic_cone10.simtel True\n",
      "0 1000 \n",
      "gamma_20deg_0deg_run000083___cta-prod6-2156m-LaPalma-dark+magic_cone10.simtel False\n"
     ]
    },
    {
     "name": "stderr",
     "output_type": "stream",
     "text": [
      "TelescopeParameter type argument 'SST*' did not match any known telescope types\n",
      "TelescopeParameter type argument 'SST*' did not match any known telescope types\n"
     ]
    },
    {
     "name": "stdout",
     "output_type": "stream",
     "text": [
      "0 1000 "
     ]
    },
    {
     "name": "stderr",
     "output_type": "stream",
     "text": [
      "TelescopeParameter type argument 'SST*' did not match any known telescope types\n",
      "TelescopeParameter type argument 'SST*' did not match any known telescope types\n"
     ]
    },
    {
     "name": "stdout",
     "output_type": "stream",
     "text": [
      "\n",
      "gamma_20deg_0deg_run000083___cta-prod6-2156m-LaPalma-dark+magic_cone10.simtel True\n",
      "0 1000 \n",
      "gamma_20deg_0deg_run000054___cta-prod6-2156m-LaPalma-dark+magic_cone10.simtel False\n"
     ]
    },
    {
     "name": "stderr",
     "output_type": "stream",
     "text": [
      "TelescopeParameter type argument 'SST*' did not match any known telescope types\n",
      "TelescopeParameter type argument 'SST*' did not match any known telescope types\n"
     ]
    },
    {
     "name": "stdout",
     "output_type": "stream",
     "text": [
      "0 1000 "
     ]
    },
    {
     "name": "stderr",
     "output_type": "stream",
     "text": [
      "TelescopeParameter type argument 'SST*' did not match any known telescope types\n",
      "TelescopeParameter type argument 'SST*' did not match any known telescope types\n"
     ]
    },
    {
     "name": "stdout",
     "output_type": "stream",
     "text": [
      "\n",
      "gamma_20deg_0deg_run000054___cta-prod6-2156m-LaPalma-dark+magic_cone10.simtel True\n",
      "0 1000 \n",
      "gamma_20deg_0deg_run000085___cta-prod6-2156m-LaPalma-dark+magic_cone10.simtel False\n"
     ]
    },
    {
     "name": "stderr",
     "output_type": "stream",
     "text": [
      "TelescopeParameter type argument 'SST*' did not match any known telescope types\n",
      "TelescopeParameter type argument 'SST*' did not match any known telescope types\n"
     ]
    },
    {
     "name": "stdout",
     "output_type": "stream",
     "text": [
      "0 1000 "
     ]
    },
    {
     "name": "stderr",
     "output_type": "stream",
     "text": [
      "TelescopeParameter type argument 'SST*' did not match any known telescope types\n",
      "TelescopeParameter type argument 'SST*' did not match any known telescope types\n"
     ]
    },
    {
     "name": "stdout",
     "output_type": "stream",
     "text": [
      "\n",
      "gamma_20deg_0deg_run000085___cta-prod6-2156m-LaPalma-dark+magic_cone10.simtel True\n",
      "0 1000 \n",
      "gamma_20deg_0deg_run000023___cta-prod6-2156m-LaPalma-dark+magic_cone10.simtel False\n"
     ]
    },
    {
     "name": "stderr",
     "output_type": "stream",
     "text": [
      "TelescopeParameter type argument 'SST*' did not match any known telescope types\n",
      "TelescopeParameter type argument 'SST*' did not match any known telescope types\n"
     ]
    },
    {
     "name": "stdout",
     "output_type": "stream",
     "text": [
      "0 1000 "
     ]
    },
    {
     "name": "stderr",
     "output_type": "stream",
     "text": [
      "TelescopeParameter type argument 'SST*' did not match any known telescope types\n",
      "TelescopeParameter type argument 'SST*' did not match any known telescope types\n"
     ]
    },
    {
     "name": "stdout",
     "output_type": "stream",
     "text": [
      "\n",
      "gamma_20deg_0deg_run000023___cta-prod6-2156m-LaPalma-dark+magic_cone10.simtel True\n",
      "0 1000 \n",
      "gamma_20deg_0deg_run000001___cta-prod6-2156m-LaPalma-dark+magic_cone10.simtel False\n"
     ]
    },
    {
     "name": "stderr",
     "output_type": "stream",
     "text": [
      "TelescopeParameter type argument 'SST*' did not match any known telescope types\n",
      "TelescopeParameter type argument 'SST*' did not match any known telescope types\n"
     ]
    },
    {
     "name": "stdout",
     "output_type": "stream",
     "text": [
      "0 1000 "
     ]
    },
    {
     "name": "stderr",
     "output_type": "stream",
     "text": [
      "TelescopeParameter type argument 'SST*' did not match any known telescope types\n",
      "TelescopeParameter type argument 'SST*' did not match any known telescope types\n"
     ]
    },
    {
     "name": "stdout",
     "output_type": "stream",
     "text": [
      "\n",
      "gamma_20deg_0deg_run000001___cta-prod6-2156m-LaPalma-dark+magic_cone10.simtel True\n",
      "0 1000 \n",
      "gamma_20deg_0deg_run000087___cta-prod6-2156m-LaPalma-dark+magic_cone10.simtel False\n"
     ]
    },
    {
     "name": "stderr",
     "output_type": "stream",
     "text": [
      "TelescopeParameter type argument 'SST*' did not match any known telescope types\n",
      "TelescopeParameter type argument 'SST*' did not match any known telescope types\n"
     ]
    },
    {
     "name": "stdout",
     "output_type": "stream",
     "text": [
      "0 1000 "
     ]
    },
    {
     "name": "stderr",
     "output_type": "stream",
     "text": [
      "TelescopeParameter type argument 'SST*' did not match any known telescope types\n",
      "TelescopeParameter type argument 'SST*' did not match any known telescope types\n"
     ]
    },
    {
     "name": "stdout",
     "output_type": "stream",
     "text": [
      "\n",
      "gamma_20deg_0deg_run000087___cta-prod6-2156m-LaPalma-dark+magic_cone10.simtel True\n",
      "0 1000 \n",
      "gamma_20deg_0deg_run000062___cta-prod6-2156m-LaPalma-dark+magic_cone10.simtel False\n"
     ]
    },
    {
     "name": "stderr",
     "output_type": "stream",
     "text": [
      "TelescopeParameter type argument 'SST*' did not match any known telescope types\n",
      "TelescopeParameter type argument 'SST*' did not match any known telescope types\n"
     ]
    },
    {
     "name": "stdout",
     "output_type": "stream",
     "text": [
      "0 1000 "
     ]
    },
    {
     "name": "stderr",
     "output_type": "stream",
     "text": [
      "TelescopeParameter type argument 'SST*' did not match any known telescope types\n",
      "TelescopeParameter type argument 'SST*' did not match any known telescope types\n"
     ]
    },
    {
     "name": "stdout",
     "output_type": "stream",
     "text": [
      "\n",
      "gamma_20deg_0deg_run000062___cta-prod6-2156m-LaPalma-dark+magic_cone10.simtel True\n",
      "0 1000 \n",
      "gamma_20deg_0deg_run000035___cta-prod6-2156m-LaPalma-dark+magic_cone10.simtel False\n"
     ]
    },
    {
     "name": "stderr",
     "output_type": "stream",
     "text": [
      "TelescopeParameter type argument 'SST*' did not match any known telescope types\n",
      "TelescopeParameter type argument 'SST*' did not match any known telescope types\n"
     ]
    },
    {
     "name": "stdout",
     "output_type": "stream",
     "text": [
      "0 1000 "
     ]
    },
    {
     "name": "stderr",
     "output_type": "stream",
     "text": [
      "TelescopeParameter type argument 'SST*' did not match any known telescope types\n",
      "TelescopeParameter type argument 'SST*' did not match any known telescope types\n"
     ]
    },
    {
     "name": "stdout",
     "output_type": "stream",
     "text": [
      "\n",
      "gamma_20deg_0deg_run000035___cta-prod6-2156m-LaPalma-dark+magic_cone10.simtel True\n",
      "0 1000 \n",
      "gamma_20deg_0deg_run000010___cta-prod6-2156m-LaPalma-dark+magic_cone10.simtel False\n"
     ]
    },
    {
     "name": "stderr",
     "output_type": "stream",
     "text": [
      "TelescopeParameter type argument 'SST*' did not match any known telescope types\n",
      "TelescopeParameter type argument 'SST*' did not match any known telescope types\n"
     ]
    },
    {
     "name": "stdout",
     "output_type": "stream",
     "text": [
      "0 "
     ]
    },
    {
     "name": "stderr",
     "output_type": "stream",
     "text": [
      "Encountered telescope event not present in stereo trigger information, skipping. event_id = 112816, tel_id = 6, tels_with_trigger: [2]\n"
     ]
    },
    {
     "name": "stdout",
     "output_type": "stream",
     "text": [
      "1000 "
     ]
    },
    {
     "name": "stderr",
     "output_type": "stream",
     "text": [
      "TelescopeParameter type argument 'SST*' did not match any known telescope types\n",
      "TelescopeParameter type argument 'SST*' did not match any known telescope types\n"
     ]
    },
    {
     "name": "stdout",
     "output_type": "stream",
     "text": [
      "\n",
      "gamma_20deg_0deg_run000010___cta-prod6-2156m-LaPalma-dark+magic_cone10.simtel True\n",
      "0 "
     ]
    },
    {
     "name": "stderr",
     "output_type": "stream",
     "text": [
      "Encountered telescope event not present in stereo trigger information, skipping. event_id = 112816, tel_id = 6, tels_with_trigger: [2]\n"
     ]
    },
    {
     "name": "stdout",
     "output_type": "stream",
     "text": [
      "1000 \n",
      "gamma_20deg_0deg_run000009___cta-prod6-2156m-LaPalma-dark+magic_cone10.simtel False\n"
     ]
    },
    {
     "name": "stderr",
     "output_type": "stream",
     "text": [
      "TelescopeParameter type argument 'SST*' did not match any known telescope types\n",
      "TelescopeParameter type argument 'SST*' did not match any known telescope types\n"
     ]
    },
    {
     "name": "stdout",
     "output_type": "stream",
     "text": [
      "0 1000 "
     ]
    },
    {
     "name": "stderr",
     "output_type": "stream",
     "text": [
      "TelescopeParameter type argument 'SST*' did not match any known telescope types\n",
      "TelescopeParameter type argument 'SST*' did not match any known telescope types\n"
     ]
    },
    {
     "name": "stdout",
     "output_type": "stream",
     "text": [
      "\n",
      "gamma_20deg_0deg_run000009___cta-prod6-2156m-LaPalma-dark+magic_cone10.simtel True\n",
      "0 1000 \n",
      "gamma_20deg_0deg_run000086___cta-prod6-2156m-LaPalma-dark+magic_cone10.simtel False\n"
     ]
    },
    {
     "name": "stderr",
     "output_type": "stream",
     "text": [
      "TelescopeParameter type argument 'SST*' did not match any known telescope types\n",
      "TelescopeParameter type argument 'SST*' did not match any known telescope types\n"
     ]
    },
    {
     "name": "stdout",
     "output_type": "stream",
     "text": [
      "0 1000 "
     ]
    },
    {
     "name": "stderr",
     "output_type": "stream",
     "text": [
      "TelescopeParameter type argument 'SST*' did not match any known telescope types\n",
      "TelescopeParameter type argument 'SST*' did not match any known telescope types\n"
     ]
    },
    {
     "name": "stdout",
     "output_type": "stream",
     "text": [
      "\n",
      "gamma_20deg_0deg_run000086___cta-prod6-2156m-LaPalma-dark+magic_cone10.simtel True\n",
      "0 1000 \n",
      "gamma_20deg_0deg_run000061___cta-prod6-2156m-LaPalma-dark+magic_cone10.simtel False\n"
     ]
    },
    {
     "name": "stderr",
     "output_type": "stream",
     "text": [
      "TelescopeParameter type argument 'SST*' did not match any known telescope types\n",
      "TelescopeParameter type argument 'SST*' did not match any known telescope types\n"
     ]
    },
    {
     "name": "stdout",
     "output_type": "stream",
     "text": [
      "0 "
     ]
    },
    {
     "name": "stderr",
     "output_type": "stream",
     "text": [
      "Encountered telescope event not present in stereo trigger information, skipping. event_id = 2441703, tel_id = 19, tels_with_trigger: [1]\n",
      "Encountered telescope event not present in stereo trigger information, skipping. event_id = 3743017, tel_id = 8, tels_with_trigger: [3]\n"
     ]
    },
    {
     "name": "stdout",
     "output_type": "stream",
     "text": [
      "1000 "
     ]
    },
    {
     "name": "stderr",
     "output_type": "stream",
     "text": [
      "TelescopeParameter type argument 'SST*' did not match any known telescope types\n",
      "TelescopeParameter type argument 'SST*' did not match any known telescope types\n"
     ]
    },
    {
     "name": "stdout",
     "output_type": "stream",
     "text": [
      "\n",
      "gamma_20deg_0deg_run000061___cta-prod6-2156m-LaPalma-dark+magic_cone10.simtel True\n",
      "0 "
     ]
    },
    {
     "name": "stderr",
     "output_type": "stream",
     "text": [
      "Encountered telescope event not present in stereo trigger information, skipping. event_id = 2441703, tel_id = 19, tels_with_trigger: [1]\n",
      "Encountered telescope event not present in stereo trigger information, skipping. event_id = 3743017, tel_id = 8, tels_with_trigger: [3]\n"
     ]
    },
    {
     "name": "stdout",
     "output_type": "stream",
     "text": [
      "1000 \n",
      "gamma_20deg_0deg_run000055___cta-prod6-2156m-LaPalma-dark+magic_cone10.simtel False\n"
     ]
    },
    {
     "name": "stderr",
     "output_type": "stream",
     "text": [
      "TelescopeParameter type argument 'SST*' did not match any known telescope types\n",
      "TelescopeParameter type argument 'SST*' did not match any known telescope types\n"
     ]
    },
    {
     "name": "stdout",
     "output_type": "stream",
     "text": [
      "0 1000 \n",
      "gamma_20deg_0deg_run000055___cta-prod6-2156m-LaPalma-dark+magic_cone10.simtel True\n"
     ]
    },
    {
     "name": "stderr",
     "output_type": "stream",
     "text": [
      "TelescopeParameter type argument 'SST*' did not match any known telescope types\n",
      "TelescopeParameter type argument 'SST*' did not match any known telescope types\n"
     ]
    },
    {
     "name": "stdout",
     "output_type": "stream",
     "text": [
      "0 1000 \n",
      "gamma_20deg_0deg_run000038___cta-prod6-2156m-LaPalma-dark+magic_cone10.simtel False\n"
     ]
    },
    {
     "name": "stderr",
     "output_type": "stream",
     "text": [
      "TelescopeParameter type argument 'SST*' did not match any known telescope types\n",
      "TelescopeParameter type argument 'SST*' did not match any known telescope types\n"
     ]
    },
    {
     "name": "stdout",
     "output_type": "stream",
     "text": [
      "0 1000 "
     ]
    },
    {
     "name": "stderr",
     "output_type": "stream",
     "text": [
      "TelescopeParameter type argument 'SST*' did not match any known telescope types\n",
      "TelescopeParameter type argument 'SST*' did not match any known telescope types\n"
     ]
    },
    {
     "name": "stdout",
     "output_type": "stream",
     "text": [
      "\n",
      "gamma_20deg_0deg_run000038___cta-prod6-2156m-LaPalma-dark+magic_cone10.simtel True\n",
      "0 1000 \n",
      "gamma_20deg_0deg_run000028___cta-prod6-2156m-LaPalma-dark+magic_cone10.simtel False\n"
     ]
    },
    {
     "name": "stderr",
     "output_type": "stream",
     "text": [
      "TelescopeParameter type argument 'SST*' did not match any known telescope types\n",
      "TelescopeParameter type argument 'SST*' did not match any known telescope types\n"
     ]
    },
    {
     "name": "stdout",
     "output_type": "stream",
     "text": [
      "0 1000 "
     ]
    },
    {
     "name": "stderr",
     "output_type": "stream",
     "text": [
      "TelescopeParameter type argument 'SST*' did not match any known telescope types\n",
      "TelescopeParameter type argument 'SST*' did not match any known telescope types\n"
     ]
    },
    {
     "name": "stdout",
     "output_type": "stream",
     "text": [
      "\n",
      "gamma_20deg_0deg_run000028___cta-prod6-2156m-LaPalma-dark+magic_cone10.simtel True\n",
      "0 1000 \n",
      "gamma_20deg_0deg_run000065___cta-prod6-2156m-LaPalma-dark+magic_cone10.simtel False\n"
     ]
    },
    {
     "name": "stderr",
     "output_type": "stream",
     "text": [
      "TelescopeParameter type argument 'SST*' did not match any known telescope types\n",
      "TelescopeParameter type argument 'SST*' did not match any known telescope types\n"
     ]
    },
    {
     "name": "stdout",
     "output_type": "stream",
     "text": [
      "0 "
     ]
    },
    {
     "name": "stderr",
     "output_type": "stream",
     "text": [
      "Encountered telescope event not present in stereo trigger information, skipping. event_id = 4740419, tel_id = 19, tels_with_trigger: [4]\n"
     ]
    },
    {
     "name": "stdout",
     "output_type": "stream",
     "text": [
      "1000 "
     ]
    },
    {
     "name": "stderr",
     "output_type": "stream",
     "text": [
      "TelescopeParameter type argument 'SST*' did not match any known telescope types\n",
      "TelescopeParameter type argument 'SST*' did not match any known telescope types\n"
     ]
    },
    {
     "name": "stdout",
     "output_type": "stream",
     "text": [
      "\n",
      "gamma_20deg_0deg_run000065___cta-prod6-2156m-LaPalma-dark+magic_cone10.simtel True\n",
      "0 "
     ]
    },
    {
     "name": "stderr",
     "output_type": "stream",
     "text": [
      "Encountered telescope event not present in stereo trigger information, skipping. event_id = 4740419, tel_id = 19, tels_with_trigger: [4]\n"
     ]
    },
    {
     "name": "stdout",
     "output_type": "stream",
     "text": [
      "1000 \n",
      "gamma_20deg_0deg_run000066___cta-prod6-2156m-LaPalma-dark+magic_cone10.simtel False\n"
     ]
    },
    {
     "name": "stderr",
     "output_type": "stream",
     "text": [
      "TelescopeParameter type argument 'SST*' did not match any known telescope types\n",
      "TelescopeParameter type argument 'SST*' did not match any known telescope types\n"
     ]
    },
    {
     "name": "stdout",
     "output_type": "stream",
     "text": [
      "0 1000 "
     ]
    },
    {
     "name": "stderr",
     "output_type": "stream",
     "text": [
      "TelescopeParameter type argument 'SST*' did not match any known telescope types\n",
      "TelescopeParameter type argument 'SST*' did not match any known telescope types\n"
     ]
    },
    {
     "name": "stdout",
     "output_type": "stream",
     "text": [
      "\n",
      "gamma_20deg_0deg_run000066___cta-prod6-2156m-LaPalma-dark+magic_cone10.simtel True\n",
      "0 1000 \n",
      "gamma_20deg_0deg_run000064___cta-prod6-2156m-LaPalma-dark+magic_cone10.simtel False\n"
     ]
    },
    {
     "name": "stderr",
     "output_type": "stream",
     "text": [
      "TelescopeParameter type argument 'SST*' did not match any known telescope types\n",
      "TelescopeParameter type argument 'SST*' did not match any known telescope types\n"
     ]
    },
    {
     "name": "stdout",
     "output_type": "stream",
     "text": [
      "0 1000 "
     ]
    },
    {
     "name": "stderr",
     "output_type": "stream",
     "text": [
      "TelescopeParameter type argument 'SST*' did not match any known telescope types\n",
      "TelescopeParameter type argument 'SST*' did not match any known telescope types\n"
     ]
    },
    {
     "name": "stdout",
     "output_type": "stream",
     "text": [
      "\n",
      "gamma_20deg_0deg_run000064___cta-prod6-2156m-LaPalma-dark+magic_cone10.simtel True\n",
      "0 1000 \n"
     ]
    }
   ],
   "source": [
    "for in_file in simtel_files:\n",
    "    \n",
    "    #for ReduceWindow in [False,True]:\n",
    "\n",
    "        in_path = Path(in_file)\n",
    "        print(in_path.stem,ReduceWindow)\n",
    "\n",
    "        out_file = in_path.stem[:-7]\n",
    "        \n",
    "        #ReduceWindow = True # False # \n",
    "        \n",
    "        out_file = OUT_DIR+out_file\n",
    "        if ReduceWindow:\n",
    "           out_file += \".redwindow.h5\"\n",
    "        else:\n",
    "           out_file += \".stdwindow.h5\"\n",
    "        \n",
    "        source = EventSource(in_file,allowed_tels=tels_alpha)\n",
    "        \n",
    "        image_processor_config = Config(dl1_to_dl2[\"ImageProcessor\"])\n",
    "        shower_processor_config = Config(dl1_to_dl2[\"ShowerProcessor\"])\n",
    "        software_trigger_config = Config(dl1_to_dl2[\"SoftwareTrigger\"])\n",
    "                                     \n",
    "        software_trigger = SoftwareTrigger(subarray=source.subarray, config=software_trigger_config)\n",
    "        \n",
    "        calibrator = CameraCalibrator(subarray=source.subarray)\n",
    "        \n",
    "        image_processor = ImageProcessor(\n",
    "             subarray=source.subarray, config=image_processor_config\n",
    "        )\n",
    "        \n",
    "        shower_processor = ShowerProcessor(subarray=source.subarray)\n",
    "        horizon_frame = AltAz()\n",
    "        \n",
    "        with DataWriter(source, output_path=out_file, overwrite=True, write_dl1_parameters=True, write_dl2=True) as writer:\n",
    "        \n",
    "             for event in source:\n",
    "                 event_count = event.count\n",
    "                 if not event_count%1000:\n",
    "                     print(event_count, end=\" \")\n",
    "                 if software_trigger(event):\n",
    "                     if ReduceWindow:\n",
    "                         ReadoutWindowReducer(event,subarray=source.subarray)\n",
    "                     calibrator(event)\n",
    "                     image_processor(event)\n",
    "                     shower_processor(event)\n",
    "        \n",
    "                     writer(event)\n",
    "        \n",
    "                     if len(event.trigger.tels_with_trigger) > 9:\n",
    "                         plotting_event = deepcopy(event)\n",
    "\n",
    "             # Added to get the \n",
    "             writer.write_simulated_shower_distributions(source.simulated_shower_distributions)\n",
    "             print()"
   ]
  },
  {
   "cell_type": "code",
   "execution_count": null,
   "id": "f2321ae4-0b93-4385-aa81-443f77ce2742",
   "metadata": {},
   "outputs": [],
   "source": []
  },
  {
   "cell_type": "code",
   "execution_count": 56,
   "id": "da5a9b81-bb1a-4cb5-985a-ae4c11596308",
   "metadata": {},
   "outputs": [],
   "source": [
    "from ctapipe.io import DataWriter, EventSource, TableLoader"
   ]
  },
  {
   "cell_type": "code",
   "execution_count": 57,
   "id": "9b0952dc-bebb-4ef6-9d4b-cdeaf7f4a258",
   "metadata": {},
   "outputs": [],
   "source": [
    "loader = TableLoader(out_file)\n",
    "events = loader.read_subarray_events()"
   ]
  },
  {
   "cell_type": "code",
   "execution_count": 58,
   "id": "dada1255-e05c-4805-ad1d-d52692538886",
   "metadata": {},
   "outputs": [
    {
     "data": {
      "text/plain": [
       "['obs_id',\n",
       " 'event_id',\n",
       " 'time',\n",
       " 'tels_with_trigger',\n",
       " 'event_type',\n",
       " 'true_energy',\n",
       " 'true_alt',\n",
       " 'true_az',\n",
       " 'true_core_x',\n",
       " 'true_core_y',\n",
       " 'true_h_first_int',\n",
       " 'true_x_max',\n",
       " 'true_starting_grammage',\n",
       " 'true_shower_primary_id',\n",
       " 'HillasReconstructor_alt',\n",
       " 'HillasReconstructor_alt_uncert',\n",
       " 'HillasReconstructor_az',\n",
       " 'HillasReconstructor_az_uncert',\n",
       " 'HillasReconstructor_ang_distance_uncert',\n",
       " 'HillasReconstructor_core_x',\n",
       " 'HillasReconstructor_core_y',\n",
       " 'HillasReconstructor_core_uncert_x',\n",
       " 'HillasReconstructor_core_uncert_y',\n",
       " 'HillasReconstructor_core_tilted_x',\n",
       " 'HillasReconstructor_core_tilted_y',\n",
       " 'HillasReconstructor_core_tilted_uncert_x',\n",
       " 'HillasReconstructor_core_tilted_uncert_y',\n",
       " 'HillasReconstructor_h_max',\n",
       " 'HillasReconstructor_h_max_uncert',\n",
       " 'HillasReconstructor_is_valid',\n",
       " 'HillasReconstructor_average_intensity',\n",
       " 'HillasReconstructor_goodness_of_fit',\n",
       " 'HillasReconstructor_telescopes']"
      ]
     },
     "execution_count": 58,
     "metadata": {},
     "output_type": "execute_result"
    }
   ],
   "source": [
    "events.colnames"
   ]
  },
  {
   "cell_type": "code",
   "execution_count": 59,
   "id": "3e8801ff-7970-4616-9e39-533f934e2773",
   "metadata": {},
   "outputs": [
    {
     "data": {
      "image/png": "[encoded data removed]",
      "text/plain": [
       "<Figure size 640x480 with 1 Axes>"
      ]
     },
     "metadata": {},
     "output_type": "display_data"
    }
   ],
   "source": [
    "theta = angular_separation(\n",
    "     events[\"HillasReconstructor_az\"].quantity,\n",
    "     events[\"HillasReconstructor_alt\"].quantity,\n",
    "     events[\"true_az\"].quantity,\n",
    "     events[\"true_alt\"].quantity,\n",
    ")\n",
    "\n",
    "plt.hist(theta.to_value(u.deg) ** 2, bins=500, range=[0, 0.1])\n",
    "plt.xlabel(r\"$\\theta² / deg²$\")\n",
    "None"
   ]
  },
  {
   "cell_type": "code",
   "execution_count": 60,
   "id": "21e5b131-5562-4dee-a6e1-514e3f21d545",
   "metadata": {},
   "outputs": [
    {
     "data": {
      "image/png": "[encoded data removed]",
      "text/plain": [
       "<Figure size 640x480 with 1 Axes>"
      ]
     },
     "metadata": {},
     "output_type": "display_data"
    }
   ],
   "source": [
    "from ctapipe.visualization import ArrayDisplay, CameraDisplay\n",
    "\n",
    "angle_offset = plotting_event.pointing.array_azimuth\n",
    "\n",
    "plotting_hillas = {\n",
    "    tel_id: dl1.parameters.hillas for tel_id, dl1 in plotting_event.dl1.tel.items()\n",
    "}\n",
    "\n",
    "plotting_core = {\n",
    "    tel_id: dl1.parameters.core.psi for tel_id, dl1 in plotting_event.dl1.tel.items()\n",
    "}\n",
    "\n",
    "\n",
    "disp = ArrayDisplay(source.subarray)\n",
    "\n",
    "disp.set_line_hillas(plotting_hillas, plotting_core, 500)\n",
    "\n",
    "plt.scatter(\n",
    "     plotting_event.simulation.shower.core_x,\n",
    "     plotting_event.simulation.shower.core_y,\n",
    "     s=200,\n",
    "     c=\"k\",\n",
    "     marker=\"x\",\n",
    "     label=\"True Impact\",\n",
    ")\n",
    "plt.scatter(\n",
    "     plotting_event.dl2.stereo.geometry[\"HillasReconstructor\"].core_x,\n",
    "     plotting_event.dl2.stereo.geometry[\"HillasReconstructor\"].core_y,\n",
    "     s=200,\n",
    "     c=\"r\",\n",
    "     marker=\"x\",\n",
    "     label=\"Estimated Impact\",\n",
    ")\n",
    "\n",
    "plt.legend(loc=\"lower right\")\n",
    "plt.xlim(-350, 350)\n",
    "plt.ylim(-375, 225)\n",
    "None"
   ]
  },
  {
   "cell_type": "code",
   "execution_count": null,
   "id": "98022863-5912-4409-bf2a-a2a828d18300",
   "metadata": {},
   "outputs": [],
   "source": []
  },
  {
   "cell_type": "code",
   "execution_count": null,
   "id": "b5677c75-79b3-42dc-a629-88cd8fc7eb68",
   "metadata": {},
   "outputs": [],
   "source": []
  }
 ],
 "metadata": {
  "jupytext": {
   "cell_metadata_filter": "-all",
   "formats": "ipynb,auto:percent",
   "notebook_metadata_filter": "-all"
  },
  "kernelspec": {
   "display_name": "Python (ctapipe_0.24)",
   "language": "python",
   "name": "ctapipe_0.24"
  },
  "language_info": {
   "codemirror_mode": {
    "name": "ipython",
    "version": 3
   },
   "file_extension": ".py",
   "mimetype": "text/x-python",
   "name": "python",
   "nbconvert_exporter": "python",
   "pygments_lexer": "ipython3",
   "version": "3.13.2"
  }
 },
 "nbformat": 4,
 "nbformat_minor": 5
}
